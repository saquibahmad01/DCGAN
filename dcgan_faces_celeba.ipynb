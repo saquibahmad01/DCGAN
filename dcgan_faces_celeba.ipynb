{
  "nbformat": 4,
  "nbformat_minor": 0,
  "metadata": {
    "kernelspec": {
      "display_name": "Python 3",
      "language": "python",
      "name": "python3"
    },
    "language_info": {
      "codemirror_mode": {
        "name": "ipython",
        "version": 3
      },
      "file_extension": ".py",
      "mimetype": "text/x-python",
      "name": "python",
      "nbconvert_exporter": "python",
      "pygments_lexer": "ipython3",
      "version": "3.6.6"
    },
    "colab": {
      "name": "dcgan_faces_celeba.ipynb",
      "provenance": []
    }
  },
  "cells": [
    {
      "cell_type": "code",
      "metadata": {
        "id": "pVN-dDsfaEz_",
        "colab_type": "code",
        "colab": {}
      },
      "source": [
        "%matplotlib inline"
      ],
      "execution_count": 0,
      "outputs": []
    },
    {
      "cell_type": "code",
      "metadata": {
        "id": "oJXeDu5JaE0J",
        "colab_type": "code",
        "colab": {}
      },
      "source": [
        "from __future__ import print_function\n",
        "#%matplotlib inline\n",
        "import argparse\n",
        "import os\n",
        "import random\n",
        "import torch\n",
        "import torch.nn as nn\n",
        "import torch.nn.parallel\n",
        "import torch.backends.cudnn as cudnn\n",
        "import torch.optim as optim\n",
        "import torch.utils.data\n",
        "import torchvision.datasets as dset\n",
        "import torchvision.transforms as transforms\n",
        "import torchvision.utils as vutils\n",
        "import numpy as np\n",
        "import matplotlib.pyplot as plt\n",
        "import matplotlib.animation as animation\n",
        "from IPython.display import HTML\n",
        "\n",
        "# Set random seem for reproducibility\n",
        "manualSeed = 999\n",
        "#manualSeed = random.randint(1, 10000) # use if you want new results\n",
        "print(\"Random Seed: \", manualSeed)\n",
        "random.seed(manualSeed)\n",
        "torch.manual_seed(manualSeed)"
      ],
      "execution_count": 0,
      "outputs": []
    },
    {
      "cell_type": "markdown",
      "metadata": {
        "id": "L0E7rdThaE0L",
        "colab_type": "text"
      },
      "source": [
        "Inputs\n",
        "------\n",
        "\n",
        "Let’s define some inputs for the run:\n",
        "\n",
        "-  **dataroot** - the path to the root of the dataset folder. We will\n",
        "   talk more about the dataset in the next section\n",
        "-  **workers** - the number of worker threads for loading the data with\n",
        "   the DataLoader\n",
        "-  **batch_size** - the batch size used in training. The DCGAN paper\n",
        "   uses a batch size of 128\n",
        "-  **image_size** - the spatial size of the images used for training.\n",
        "   This implementation defaults to 64x64. If another size is desired,\n",
        "   the structures of D and G must be changed. See\n",
        "   `here <https://github.com/pytorch/examples/issues/70>`__ for more\n",
        "   details\n",
        "-  **nc** - number of color channels in the input images. For color\n",
        "   images this is 3\n",
        "-  **nz** - length of latent vector\n",
        "-  **ngf** - relates to the depth of feature maps carried through the\n",
        "   generator\n",
        "-  **ndf** - sets the depth of feature maps propagated through the\n",
        "   discriminator\n",
        "-  **num_epochs** - number of training epochs to run. Training for\n",
        "   longer will probably lead to better results but will also take much\n",
        "   longer\n",
        "-  **lr** - learning rate for training. As described in the DCGAN paper,\n",
        "   this number should be 0.0002\n",
        "-  **beta1** - beta1 hyperparameter for Adam optimizers. As described in\n",
        "   paper, this number should be 0.5\n",
        "-  **ngpu** - number of GPUs available. If this is 0, code will run in\n",
        "   CPU mode. If this number is greater than 0 it will run on that number\n",
        "   of GPUs\n",
        "\n",
        "\n"
      ]
    },
    {
      "cell_type": "code",
      "metadata": {
        "id": "S5ty3NNbaE0L",
        "colab_type": "code",
        "colab": {}
      },
      "source": [
        "# Root directory for dataset\n",
        "dataroot = \"/datasets/celeba\"\n",
        "\n",
        "# Number of workers for dataloader\n",
        "workers = 4\n",
        "\n",
        "# Batch size during training\n",
        "batch_size = 128\n",
        "\n",
        "# Spatial size of training images. All images will be resized to this\n",
        "#   size using a transformer.\n",
        "image_size = 64\n",
        "\n",
        "# Number of channels in the training images. For color images this is 3\n",
        "nc = 3\n",
        "\n",
        "# Size of z latent vector (i.e. size of generator input)\n",
        "nz = 100\n",
        "\n",
        "# Size of feature maps in generator\n",
        "ngf = 64\n",
        "\n",
        "# Size of feature maps in discriminator\n",
        "ndf = 64\n",
        "\n",
        "# Number of training epochs\n",
        "num_epochs = 5\n",
        "\n",
        "# Learning rate for optimizers\n",
        "lr = 0.0002\n",
        "\n",
        "# Beta1 hyperparam for Adam optimizers\n",
        "beta1 = 0.5\n",
        "\n",
        "# Number of GPUs available. Use 0 for CPU mode.\n",
        "ngpu = 1"
      ],
      "execution_count": 0,
      "outputs": []
    },
    {
      "cell_type": "code",
      "metadata": {
        "id": "Vc33Q-QgaE0O",
        "colab_type": "code",
        "colab": {}
      },
      "source": [
        "# We can use an image folder dataset the way we have it setup.\n",
        "# Create the dataset\n",
        "dataset = dset.ImageFolder(root=dataroot,\n",
        "                           transform=transforms.Compose([\n",
        "                               transforms.Resize(image_size),\n",
        "                               transforms.CenterCrop(image_size),\n",
        "                               transforms.ToTensor(),\n",
        "                               transforms.Normalize((0.5, 0.5, 0.5), (0.5, 0.5, 0.5)),\n",
        "                           ]))\n",
        "# Create the dataloader\n",
        "dataloader = torch.utils.data.DataLoader(dataset, batch_size=batch_size,\n",
        "                                         shuffle=True, num_workers=workers)\n",
        "\n",
        "# Decide which device we want to run on\n",
        "device = torch.device(\"cuda:0\" if (torch.cuda.is_available() and ngpu > 0) else \"cpu\")\n",
        "\n",
        "# Plot some training images\n",
        "real_batch = next(iter(dataloader))\n",
        "plt.figure(figsize=(8,8))\n",
        "plt.axis(\"off\")\n",
        "plt.title(\"Training Images\")\n",
        "plt.imshow(np.transpose(vutils.make_grid(real_batch[0].to(device)[:64], padding=2, normalize=True).cpu(),(1,2,0)))"
      ],
      "execution_count": 0,
      "outputs": []
    },
    {
      "cell_type": "markdown",
      "metadata": {
        "id": "flHdBhoJaE0R",
        "colab_type": "text"
      },
      "source": [
        "Implementation\n",
        "--------------\n",
        "\n",
        "With our input parameters set and the dataset prepared, we can now get\n",
        "into the implementation. We will start with the weigth initialization\n",
        "strategy, then talk about the generator, discriminator, loss functions,\n",
        "and training loop in detail.\n",
        "\n",
        "Weight Initialization\n",
        "~~~~~~~~~~~~~~~~~~~~~\n",
        "\n",
        "From the DCGAN paper, the authors specify that all model weights shall\n",
        "be randomly initialized from a Normal distribution with mean=0,\n",
        "stdev=0.2. The ``weights_init`` function takes an initialized model as\n",
        "input and reinitializes all convolutional, convolutional-transpose, and\n",
        "batch normalization layers to meet this criteria. This function is\n",
        "applied to the models immediately after initialization.\n",
        "\n",
        "\n"
      ]
    },
    {
      "cell_type": "code",
      "metadata": {
        "id": "FCfwM0eUaE0S",
        "colab_type": "code",
        "colab": {}
      },
      "source": [
        "# custom weights initialization called on netG and netD\n",
        "def weights_init(m):\n",
        "    classname = m.__class__.__name__\n",
        "    if classname.find('Conv') != -1:\n",
        "        nn.init.normal_(m.weight.data, 0.0, 0.02)\n",
        "    elif classname.find('BatchNorm') != -1:\n",
        "        nn.init.normal_(m.weight.data, 1.0, 0.02)\n",
        "        nn.init.constant_(m.bias.data, 0)"
      ],
      "execution_count": 0,
      "outputs": []
    },
    {
      "cell_type": "markdown",
      "metadata": {
        "id": "O_OqJzpAaE0T",
        "colab_type": "text"
      },
      "source": [
        "Generator\n",
        "~~~~~~~~~\n",
        "\n",
        "The generator, $G$, is designed to map the latent space vector\n",
        "($z$) to data-space. Since our data are images, converting\n",
        "$z$ to data-space means ultimately creating a RGB image with the\n",
        "same size as the training images (i.e. 3x64x64). In practice, this is\n",
        "accomplished through a series of strided two dimensional convolutional\n",
        "transpose layers, each paired with a 2d batch norm layer and a relu\n",
        "activation. The output of the generator is fed through a tanh function\n",
        "to return it to the input data range of $[-1,1]$. It is worth\n",
        "noting the existence of the batch norm functions after the\n",
        "conv-transpose layers, as this is a critical contribution of the DCGAN\n",
        "paper. These layers help with the flow of gradients during training. An\n",
        "image of the generator from the DCGAN paper is shown below.\n",
        "\n",
        ".. figure:: /_static/img/dcgan_generator.png\n",
        "   :alt: dcgan_generator\n",
        "\n",
        "Notice, the how the inputs we set in the input section (*nz*, *ngf*, and\n",
        "*nc*) influence the generator architecture in code. *nz* is the length\n",
        "of the z input vector, *ngf* relates to the size of the feature maps\n",
        "that are propagated through the generator, and *nc* is the number of\n",
        "channels in the output image (set to 3 for RGB images). Below is the\n",
        "code for the generator.\n",
        "\n",
        "\n"
      ]
    },
    {
      "cell_type": "code",
      "metadata": {
        "id": "gakYC0PFaE0U",
        "colab_type": "code",
        "colab": {}
      },
      "source": [
        "# Generator Code\n",
        "\n",
        "class Generator(nn.Module):\n",
        "    def __init__(self, ngpu):\n",
        "        super(Generator, self).__init__()\n",
        "        self.ngpu = ngpu\n",
        "        self.main = nn.Sequential(\n",
        "            # input is Z, going into a convolution\n",
        "            nn.ConvTranspose2d( nz, ngf * 8, 4, 1, 0, bias=False),\n",
        "            nn.BatchNorm2d(ngf * 8),\n",
        "            nn.ReLU(True),\n",
        "            # state size. (ngf*8) x 4 x 4\n",
        "            nn.ConvTranspose2d(ngf * 8, ngf * 4, 4, 2, 1, bias=False),\n",
        "            nn.BatchNorm2d(ngf * 4),\n",
        "            nn.ReLU(True),\n",
        "            # state size. (ngf*4) x 8 x 8\n",
        "            nn.ConvTranspose2d( ngf * 4, ngf * 2, 4, 2, 1, bias=False),\n",
        "            nn.BatchNorm2d(ngf * 2),\n",
        "            nn.ReLU(True),\n",
        "            # state size. (ngf*2) x 16 x 16\n",
        "            nn.ConvTranspose2d( ngf * 2, ngf, 4, 2, 1, bias=False),\n",
        "            nn.BatchNorm2d(ngf),\n",
        "            nn.ReLU(True),\n",
        "            # state size. (ngf) x 32 x 32\n",
        "            nn.ConvTranspose2d( ngf, nc, 4, 2, 1, bias=False),\n",
        "            nn.Tanh()\n",
        "            # state size. (nc) x 64 x 64\n",
        "        )\n",
        "\n",
        "    def forward(self, input):\n",
        "        return self.main(input)"
      ],
      "execution_count": 0,
      "outputs": []
    },
    {
      "cell_type": "markdown",
      "metadata": {
        "id": "5DFRtNTQaE0W",
        "colab_type": "text"
      },
      "source": [
        "Now, we can instantiate the generator and apply the ``weights_init``\n",
        "function. Check out the printed model to see how the generator object is\n",
        "structured.\n",
        "\n",
        "\n"
      ]
    },
    {
      "cell_type": "code",
      "metadata": {
        "id": "OejdkY0vaE0W",
        "colab_type": "code",
        "colab": {}
      },
      "source": [
        "# Create the generator\n",
        "netG = Generator(ngpu).to(device)\n",
        "\n",
        "# Handle multi-gpu if desired\n",
        "if (device.type == 'cuda') and (ngpu > 1):\n",
        "    netG = nn.DataParallel(netG, list(range(ngpu)))\n",
        "\n",
        "# Apply the weights_init function to randomly initialize all weights\n",
        "#  to mean=0, stdev=0.2.\n",
        "netG.apply(weights_init)\n",
        "\n",
        "# Print the model\n",
        "print(netG)"
      ],
      "execution_count": 0,
      "outputs": []
    },
    {
      "cell_type": "markdown",
      "metadata": {
        "id": "ELsENjXHaE0Z",
        "colab_type": "text"
      },
      "source": [
        "Discriminator\n",
        "~~~~~~~~~~~~~\n",
        "\n",
        "As mentioned, the discriminator, $D$, is a binary classification\n",
        "network that takes an image as input and outputs a scalar probability\n",
        "that the input image is real (as opposed to fake). Here, $D$ takes\n",
        "a 3x64x64 input image, processes it through a series of Conv2d,\n",
        "BatchNorm2d, and LeakyReLU layers, and outputs the final probability\n",
        "through a Sigmoid activation function. This architecture can be extended\n",
        "with more layers if necessary for the problem, but there is significance\n",
        "to the use of the strided convolution, BatchNorm, and LeakyReLUs. The\n",
        "DCGAN paper mentions it is a good practice to use strided convolution\n",
        "rather than pooling to downsample because it lets the network learn its\n",
        "own pooling function. Also batch norm and leaky relu functions promote\n",
        "healthy gradient flow which is critical for the learning process of both\n",
        "$G$ and $D$.\n",
        "\n",
        "\n"
      ]
    },
    {
      "cell_type": "markdown",
      "metadata": {
        "id": "K2Yb2ZD8aE0a",
        "colab_type": "text"
      },
      "source": [
        "Discriminator Code\n",
        "\n"
      ]
    },
    {
      "cell_type": "code",
      "metadata": {
        "id": "OOkKehYUaE0b",
        "colab_type": "code",
        "colab": {}
      },
      "source": [
        "class Discriminator(nn.Module):\n",
        "    def __init__(self, ngpu):\n",
        "        super(Discriminator, self).__init__()\n",
        "        self.ngpu = ngpu\n",
        "        self.main = nn.Sequential(\n",
        "            # input is (nc) x 64 x 64\n",
        "            nn.Conv2d(nc, ndf, 4, 2, 1, bias=False),\n",
        "            nn.LeakyReLU(0.2, inplace=True),\n",
        "            # state size. (ndf) x 32 x 32\n",
        "            nn.Conv2d(ndf, ndf * 2, 4, 2, 1, bias=False),\n",
        "            nn.BatchNorm2d(ndf * 2),\n",
        "            nn.LeakyReLU(0.2, inplace=True),\n",
        "            # state size. (ndf*2) x 16 x 16\n",
        "            nn.Conv2d(ndf * 2, ndf * 4, 4, 2, 1, bias=False),\n",
        "            nn.BatchNorm2d(ndf * 4),\n",
        "            nn.LeakyReLU(0.2, inplace=True),\n",
        "            # state size. (ndf*4) x 8 x 8\n",
        "            nn.Conv2d(ndf * 4, ndf * 8, 4, 2, 1, bias=False),\n",
        "            nn.BatchNorm2d(ndf * 8),\n",
        "            nn.LeakyReLU(0.2, inplace=True),\n",
        "            # state size. (ndf*8) x 4 x 4\n",
        "            nn.Conv2d(ndf * 8, 1, 4, 1, 0, bias=False),\n",
        "            nn.Sigmoid()\n",
        "        )\n",
        "\n",
        "    def forward(self, input):\n",
        "        return self.main(input)"
      ],
      "execution_count": 0,
      "outputs": []
    },
    {
      "cell_type": "markdown",
      "metadata": {
        "id": "fZIIkp3taE0e",
        "colab_type": "text"
      },
      "source": [
        "Now, as with the generator, we can create the discriminator, apply the\n",
        "``weights_init`` function, and print the model’s structure.\n",
        "\n",
        "\n"
      ]
    },
    {
      "cell_type": "code",
      "metadata": {
        "id": "BK4rn_caaE0g",
        "colab_type": "code",
        "colab": {}
      },
      "source": [
        "# Create the Discriminator\n",
        "netD = Discriminator(ngpu).to(device)\n",
        "\n",
        "# Handle multi-gpu if desired\n",
        "if (device.type == 'cuda') and (ngpu > 1):\n",
        "    netD = nn.DataParallel(netD, list(range(ngpu)))\n",
        "    \n",
        "# Apply the weights_init function to randomly initialize all weights\n",
        "#  to mean=0, stdev=0.2.\n",
        "netD.apply(weights_init)\n",
        "\n",
        "# Print the model\n",
        "print(netD)"
      ],
      "execution_count": 0,
      "outputs": []
    },
    {
      "cell_type": "markdown",
      "metadata": {
        "id": "1Gv6nFNfaE0j",
        "colab_type": "text"
      },
      "source": [
        "Loss Functions and Optimizers\n",
        "~~~~~~~~~~~~~~~~~~~~~~~~~~~~~\n",
        "\n",
        "With $D$ and $G$ setup, we can specify how they learn\n",
        "through the loss functions and optimizers. We will use the Binary Cross\n",
        "Entropy loss\n",
        "(`BCELoss <https://pytorch.org/docs/stable/nn.html#torch.nn.BCELoss>`__)\n",
        "function which is defined in PyTorch as:\n",
        "\n",
        "\\begin{align}\\ell(x, y) = L = \\{l_1,\\dots,l_N\\}^\\top, \\quad l_n = - \\left[ y_n \\cdot \\log x_n + (1 - y_n) \\cdot \\log (1 - x_n) \\right]\\end{align}\n",
        "\n",
        "Notice how this function provides the calculation of both log components\n",
        "in the objective function (i.e. $log(D(x))$ and\n",
        "$log(1-D(G(z)))$). We can specify what part of the BCE equation to\n",
        "use with the $y$ input. This is accomplished in the training loop\n",
        "which is coming up soon, but it is important to understand how we can\n",
        "choose which component we wish to calculate just by changing $y$\n",
        "(i.e. GT labels).\n",
        "\n",
        "Next, we define our real label as 1 and the fake label as 0. These\n",
        "labels will be used when calculating the losses of $D$ and\n",
        "$G$, and this is also the convention used in the original GAN\n",
        "paper. Finally, we set up two separate optimizers, one for $D$ and\n",
        "one for $G$. As specified in the DCGAN paper, both are Adam\n",
        "optimizers with learning rate 0.0002 and Beta1 = 0.5. For keeping track\n",
        "of the generator’s learning progression, we will generate a fixed batch\n",
        "of latent vectors that are drawn from a Gaussian distribution\n",
        "(i.e. fixed_noise) . In the training loop, we will periodically input\n",
        "this fixed_noise into $G$, and over the iterations we will see\n",
        "images form out of the noise.\n",
        "\n",
        "\n"
      ]
    },
    {
      "cell_type": "code",
      "metadata": {
        "id": "Cfdc4CLGaE0j",
        "colab_type": "code",
        "colab": {}
      },
      "source": [
        "# Initialize BCELoss function\n",
        "criterion = nn.BCELoss()\n",
        "\n",
        "# Create batch of latent vectors that we will use to visualize\n",
        "#  the progression of the generator\n",
        "fixed_noise = torch.randn(64, nz, 1, 1, device=device)\n",
        "\n",
        "# Establish convention for real and fake labels during training\n",
        "real_label = 1\n",
        "fake_label = 0\n",
        "\n",
        "# Setup Adam optimizers for both G and D\n",
        "optimizerD = optim.Adam(netD.parameters(), lr=lr, betas=(beta1, 0.999))\n",
        "optimizerG = optim.Adam(netG.parameters(), lr=lr, betas=(beta1, 0.999))"
      ],
      "execution_count": 0,
      "outputs": []
    },
    {
      "cell_type": "markdown",
      "metadata": {
        "id": "UPYJGIhwaE0l",
        "colab_type": "text"
      },
      "source": [
        "Training\n",
        "~~~~~~~~\n",
        "\n",
        "Finally, now that we have all of the parts of the GAN framework defined,\n",
        "we can train it. Be mindful that training GANs is somewhat of an art\n",
        "form, as incorrect hyperparameter settings lead to mode collapse with\n",
        "little explanation of what went wrong. Here, we will closely follow\n",
        "Algorithm 1 from Goodfellow’s paper, while abiding by some of the best\n",
        "practices shown in `ganhacks <https://github.com/soumith/ganhacks>`__.\n",
        "Namely, we will “construct different mini-batches for real and fake”\n",
        "images, and also adjust G’s objective function to maximize\n",
        "$logD(G(z))$. Training is split up into two main parts. Part 1\n",
        "updates the Discriminator and Part 2 updates the Generator.\n",
        "\n",
        "**Part 1 - Train the Discriminator**\n",
        "\n",
        "Recall, the goal of training the discriminator is to maximize the\n",
        "probability of correctly classifying a given input as real or fake. In\n",
        "terms of Goodfellow, we wish to “update the discriminator by ascending\n",
        "its stochastic gradient”. Practically, we want to maximize\n",
        "$log(D(x)) + log(1-D(G(z)))$. Due to the separate mini-batch\n",
        "suggestion from ganhacks, we will calculate this in two steps. First, we\n",
        "will construct a batch of real samples from the training set, forward\n",
        "pass through $D$, calculate the loss ($log(D(x))$), then\n",
        "calculate the gradients in a backward pass. Secondly, we will construct\n",
        "a batch of fake samples with the current generator, forward pass this\n",
        "batch through $D$, calculate the loss ($log(1-D(G(z)))$),\n",
        "and *accumulate* the gradients with a backward pass. Now, with the\n",
        "gradients accumulated from both the all-real and all-fake batches, we\n",
        "call a step of the Discriminator’s optimizer.\n",
        "\n",
        "**Part 2 - Train the Generator**\n",
        "\n",
        "As stated in the original paper, we want to train the Generator by\n",
        "minimizing $log(1-D(G(z)))$ in an effort to generate better fakes.\n",
        "As mentioned, this was shown by Goodfellow to not provide sufficient\n",
        "gradients, especially early in the learning process. As a fix, we\n",
        "instead wish to maximize $log(D(G(z)))$. In the code we accomplish\n",
        "this by: classifying the Generator output from Part 1 with the\n",
        "Discriminator, computing G’s loss *using real labels as GT*, computing\n",
        "G’s gradients in a backward pass, and finally updating G’s parameters\n",
        "with an optimizer step. It may seem counter-intuitive to use the real\n",
        "labels as GT labels for the loss function, but this allows us to use the\n",
        "$log(x)$ part of the BCELoss (rather than the $log(1-x)$\n",
        "part) which is exactly what we want.\n",
        "\n",
        "Finally, we will do some statistic reporting and at the end of each\n",
        "epoch we will push our fixed_noise batch through the generator to\n",
        "visually track the progress of G’s training. The training statistics\n",
        "reported are:\n",
        "\n",
        "-  **Loss_D** - discriminator loss calculated as the sum of losses for\n",
        "   the all real and all fake batches ($log(D(x)) + log(D(G(z)))$).\n",
        "-  **Loss_G** - generator loss calculated as $log(D(G(z)))$\n",
        "-  **D(x)** - the average output (across the batch) of the discriminator\n",
        "   for the all real batch. This should start close to 1 then\n",
        "   theoretically converge to 0.5 when G gets better. Think about why\n",
        "   this is.\n",
        "-  **D(G(z))** - average discriminator outputs for the all fake batch.\n",
        "   The first number is before D is updated and the second number is\n",
        "   after D is updated. These numbers should start near 0 and converge to\n",
        "   0.5 as G gets better. Think about why this is.\n",
        "\n",
        "**Note:** This step might take a while, depending on how many epochs you\n",
        "run and if you removed some data from the dataset.\n",
        "\n",
        "\n"
      ]
    },
    {
      "cell_type": "code",
      "metadata": {
        "id": "JUq4Q43CaE0m",
        "colab_type": "code",
        "colab": {}
      },
      "source": [
        "# Training Loop\n",
        "\n",
        "# Lists to keep track of progress\n",
        "img_list = []\n",
        "G_losses = []\n",
        "D_losses = []\n",
        "iters = 0\n",
        "\n",
        "print(\"Starting Training Loop...\")\n",
        "# For each epoch\n",
        "for epoch in range(num_epochs):\n",
        "    # For each batch in the dataloader\n",
        "    for i, data in enumerate(dataloader, 0):\n",
        "        \n",
        "        ############################\n",
        "        # (1) Update D network: maximize log(D(x)) + log(1 - D(G(z)))\n",
        "        ###########################\n",
        "        ## Train with all-real batch\n",
        "        netD.zero_grad()\n",
        "        # Format batch\n",
        "        real_cpu = data[0].to(device)\n",
        "        b_size = real_cpu.size(0)\n",
        "        label = torch.full((b_size,), real_label, device=device)\n",
        "        # Forward pass real batch through D\n",
        "        output = netD(real_cpu).view(-1)\n",
        "        # Calculate loss on all-real batch\n",
        "        errD_real = criterion(output, label)\n",
        "        # Calculate gradients for D in backward pass\n",
        "        errD_real.backward()\n",
        "        D_x = output.mean().item()\n",
        "\n",
        "        ## Train with all-fake batch\n",
        "        # Generate batch of latent vectors\n",
        "        noise = torch.randn(b_size, nz, 1, 1, device=device)\n",
        "        # Generate fake image batch with G\n",
        "        fake = netG(noise)\n",
        "        label.fill_(fake_label)\n",
        "        # Classify all fake batch with D\n",
        "        output = netD(fake.detach()).view(-1)\n",
        "        # Calculate D's loss on the all-fake batch\n",
        "        errD_fake = criterion(output, label)\n",
        "        # Calculate the gradients for this batch\n",
        "        errD_fake.backward()\n",
        "        D_G_z1 = output.mean().item()\n",
        "        # Add the gradients from the all-real and all-fake batches\n",
        "        errD = errD_real + errD_fake\n",
        "        # Update D\n",
        "        optimizerD.step()\n",
        "\n",
        "        ############################\n",
        "        # (2) Update G network: maximize log(D(G(z)))\n",
        "        ###########################\n",
        "        netG.zero_grad()\n",
        "        label.fill_(real_label)  # fake labels are real for generator cost\n",
        "        # Since we just updated D, perform another forward pass of all-fake batch through D\n",
        "        output = netD(fake).view(-1)\n",
        "        # Calculate G's loss based on this output\n",
        "        errG = criterion(output, label)\n",
        "        # Calculate gradients for G\n",
        "        errG.backward()\n",
        "        D_G_z2 = output.mean().item()\n",
        "        # Update G\n",
        "        optimizerG.step()\n",
        "        \n",
        "        # Output training stats\n",
        "        if i % 50 == 0:\n",
        "            print('[%d/%d][%d/%d]\\tLoss_D: %.4f\\tLoss_G: %.4f\\tD(x): %.4f\\tD(G(z)): %.4f / %.4f'\n",
        "                  % (epoch, num_epochs, i, len(dataloader),\n",
        "                     errD.item(), errG.item(), D_x, D_G_z1, D_G_z2))\n",
        "        \n",
        "        # Save Losses for plotting later\n",
        "        G_losses.append(errG.item())\n",
        "        D_losses.append(errD.item())\n",
        "        \n",
        "        # Check how the generator is doing by saving G's output on fixed_noise\n",
        "        if (iters % 500 == 0) or ((epoch == num_epochs-1) and (i == len(dataloader)-1)):\n",
        "            with torch.no_grad():\n",
        "                fake = netG(fixed_noise).detach().cpu()\n",
        "            img_list.append(vutils.make_grid(fake, padding=2, normalize=True))\n",
        "            \n",
        "        iters += 1"
      ],
      "execution_count": 0,
      "outputs": []
    },
    {
      "cell_type": "markdown",
      "metadata": {
        "id": "pk4z2meuaE0o",
        "colab_type": "text"
      },
      "source": [
        "Results\n",
        "-------\n",
        "\n",
        "Finally, lets check out how we did. Here, we will look at three\n",
        "different results. First, we will see how D and G’s losses changed\n",
        "during training. Second, we will visualize G’s output on the fixed_noise\n",
        "batch for every epoch. And third, we will look at a batch of real data\n",
        "next to a batch of fake data from G.\n",
        "\n",
        "**Loss versus training iteration**\n",
        "\n",
        "Below is a plot of D & G’s losses versus training iterations.\n",
        "\n",
        "\n"
      ]
    },
    {
      "cell_type": "code",
      "metadata": {
        "id": "f4w7ht7waE0p",
        "colab_type": "code",
        "colab": {}
      },
      "source": [
        "plt.figure(figsize=(10,5))\n",
        "plt.title(\"Generator and Discriminator Loss During Training\")\n",
        "plt.plot(G_losses,label=\"G\")\n",
        "plt.plot(D_losses,label=\"D\")\n",
        "plt.xlabel(\"iterations\")\n",
        "plt.ylabel(\"Loss\")\n",
        "plt.legend()\n",
        "plt.show()"
      ],
      "execution_count": 0,
      "outputs": []
    },
    {
      "cell_type": "markdown",
      "metadata": {
        "id": "p9lMH7x3aE0r",
        "colab_type": "text"
      },
      "source": [
        "**Visualization of G’s progression**\n",
        "\n",
        "Remember how we saved the generator’s output on the fixed_noise batch\n",
        "after every epoch of training. Now, we can visualize the training\n",
        "progression of G with an animation. Press the play button to start the\n",
        "animation.\n",
        "\n",
        "\n"
      ]
    },
    {
      "cell_type": "code",
      "metadata": {
        "id": "CUQ9SIQOaE0s",
        "colab_type": "code",
        "colab": {}
      },
      "source": [
        "#%%capture\n",
        "fig = plt.figure(figsize=(8,8))\n",
        "plt.axis(\"off\")\n",
        "ims = [[plt.imshow(np.transpose(i,(1,2,0)), animated=True)] for i in img_list]\n",
        "ani = animation.ArtistAnimation(fig, ims, interval=1000, repeat_delay=1000, blit=True)\n",
        "\n",
        "HTML(ani.to_jshtml())"
      ],
      "execution_count": 0,
      "outputs": []
    },
    {
      "cell_type": "markdown",
      "metadata": {
        "id": "cPuveBFtaE0u",
        "colab_type": "text"
      },
      "source": [
        "**Real Images vs. Fake Images**\n",
        "\n",
        "Finally, lets take a look at some real images and fake images side by\n",
        "side.\n",
        "\n",
        "\n"
      ]
    },
    {
      "cell_type": "code",
      "metadata": {
        "id": "_rZIkW4gaE0v",
        "colab_type": "code",
        "colab": {}
      },
      "source": [
        "# Grab a batch of real images from the dataloader\n",
        "real_batch = next(iter(dataloader))\n",
        "\n",
        "# Plot the real images\n",
        "plt.figure(figsize=(15,15))\n",
        "plt.subplot(1,2,1)\n",
        "plt.axis(\"off\")\n",
        "plt.title(\"Real Images\")\n",
        "plt.imshow(np.transpose(vutils.make_grid(real_batch[0].to(device)[:64], padding=5, normalize=True).cpu(),(1,2,0)))\n",
        "\n",
        "# Plot the fake images from the last epoch\n",
        "plt.subplot(1,2,2)\n",
        "plt.axis(\"off\")\n",
        "plt.title(\"Fake Images\")\n",
        "plt.imshow(np.transpose(img_list[-1],(1,2,0)))\n",
        "plt.show()"
      ],
      "execution_count": 0,
      "outputs": []
    }
  ]
}